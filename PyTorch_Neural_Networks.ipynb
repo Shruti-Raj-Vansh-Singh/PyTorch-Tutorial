{
  "nbformat": 4,
  "nbformat_minor": 0,
  "metadata": {
    "colab": {
      "name": "PyTorch Neural Networks.ipynb",
      "provenance": [],
      "authorship_tag": "ABX9TyMzM9CQuCS5YeE+ealHK0xY",
      "include_colab_link": true
    },
    "kernelspec": {
      "name": "python3",
      "display_name": "Python 3"
    }
  },
  "cells": [
    {
      "cell_type": "markdown",
      "metadata": {
        "id": "view-in-github",
        "colab_type": "text"
      },
      "source": [
        "<a href=\"https://colab.research.google.com/github/Shruti-Raj-Vansh-Singh/PyTorch-Tutorial/blob/master/PyTorch_Neural_Networks.ipynb\" target=\"_parent\"><img src=\"https://colab.research.google.com/assets/colab-badge.svg\" alt=\"Open In Colab\"/></a>"
      ]
    },
    {
      "cell_type": "markdown",
      "metadata": {
        "id": "RV0-BfHMpF3r",
        "colab_type": "text"
      },
      "source": [
        "# NEURAL NETWORKS\n",
        "Neural Networks can be constructed using torch.nn package. \\\n",
        "nn depends on autograd to define a model and differentiate them. An nn.Module contains layers, and a method forward(input) that returns the output."
      ]
    },
    {
      "cell_type": "markdown",
      "metadata": {
        "id": "TTiF40odp8Sk",
        "colab_type": "text"
      },
      "source": [
        "## define a neural network"
      ]
    },
    {
      "cell_type": "code",
      "metadata": {
        "id": "Jw8RMofno9z_",
        "colab_type": "code",
        "colab": {}
      },
      "source": [
        "import torch\n",
        "import torch.nn as nn\n",
        "import torch.nn.functional as F"
      ],
      "execution_count": 9,
      "outputs": []
    },
    {
      "cell_type": "code",
      "metadata": {
        "id": "8bjhk-M2qJ_s",
        "colab_type": "code",
        "colab": {
          "base_uri": "https://localhost:8080/",
          "height": 134
        },
        "outputId": "0546f019-2e42-4218-d89e-939bc2bb33a9"
      },
      "source": [
        "class Net(nn.Module):\n",
        "\n",
        "  def __init__(self):\n",
        "    super(Net, self).__init__()\n",
        "    # 1 input image, 6 filters, 3X3 kernel\n",
        "    self.conv1 = nn.Conv2d(1,6,3)\n",
        "    self.conv2 = nn.Conv2d(6,16,3)\n",
        "    #an affine operation y= w*x + b\n",
        "    self.fc1 = nn.Linear(16*6*6, 120)  #for 6X6 image\n",
        "    self.fc2 = nn.Linear(120,84)\n",
        "    self.fc3 = nn.Linear(84,10)\n",
        "\n",
        "  def forward(self,x):\n",
        "    #maxpooling with pool size 2X2\n",
        "    x = F.max_pool2d(F.relu(self.conv1(x)),(2,2))\n",
        "    x = F.max_pool2d(F.relu(self.conv2(x)),(2))   #in case square pool size we can specify only 1 number\n",
        "    x = x.view(-1, self.num_flat_features(x))\n",
        "    x = F.relu(self.fc1(x))\n",
        "    x = F.relu(self.fc2(x))\n",
        "    x = self.fc3(x)\n",
        "    return x\n",
        "  \n",
        "  def num_flat_features(self,x):\n",
        "    size = x.size()[1:]         # we dont want the batch dimension\n",
        "    num_features = 1\n",
        "    for s in size:\n",
        "      num_features*=s\n",
        "    return num_features\n",
        "  \n",
        "net = Net()\n",
        "print(net)"
      ],
      "execution_count": 10,
      "outputs": [
        {
          "output_type": "stream",
          "text": [
            "Net(\n",
            "  (conv1): Conv2d(1, 6, kernel_size=(3, 3), stride=(1, 1))\n",
            "  (conv2): Conv2d(6, 16, kernel_size=(3, 3), stride=(1, 1))\n",
            "  (fc1): Linear(in_features=576, out_features=120, bias=True)\n",
            "  (fc2): Linear(in_features=120, out_features=84, bias=True)\n",
            "  (fc3): Linear(in_features=84, out_features=10, bias=True)\n",
            ")\n"
          ],
          "name": "stdout"
        }
      ]
    },
    {
      "cell_type": "markdown",
      "metadata": {
        "id": "AT5G73ku0CyO",
        "colab_type": "text"
      },
      "source": [
        "The backprop is computed automatically by autograd"
      ]
    },
    {
      "cell_type": "markdown",
      "metadata": {
        "id": "iqqjb3K50O8B",
        "colab_type": "text"
      },
      "source": [
        "The learnable parameters of the model are returned by net.parameters()"
      ]
    },
    {
      "cell_type": "code",
      "metadata": {
        "id": "vbPc1PXqxrD_",
        "colab_type": "code",
        "colab": {
          "base_uri": "https://localhost:8080/",
          "height": 50
        },
        "outputId": "2c199f03-0d62-416c-bc0a-146c6002ecde"
      },
      "source": [
        "para = list(net.parameters())\n",
        "print(len(para))\n",
        "print(para[0].size())  #for conv1"
      ],
      "execution_count": 11,
      "outputs": [
        {
          "output_type": "stream",
          "text": [
            "10\n",
            "torch.Size([6, 1, 3, 3])\n"
          ],
          "name": "stdout"
        }
      ]
    },
    {
      "cell_type": "markdown",
      "metadata": {
        "id": "8E3m_Ug8Slay",
        "colab_type": "text"
      },
      "source": [
        "random 32X32 input "
      ]
    },
    {
      "cell_type": "code",
      "metadata": {
        "id": "T_TmgRcBx2ij",
        "colab_type": "code",
        "colab": {
          "base_uri": "https://localhost:8080/",
          "height": 50
        },
        "outputId": "7c25879e-d978-4bcb-a97b-205659b36258"
      },
      "source": [
        "input = torch.rand(1,1,32,32)   #samples, channesl, height, width\n",
        "out = net(input)\n",
        "print(out)"
      ],
      "execution_count": 13,
      "outputs": [
        {
          "output_type": "stream",
          "text": [
            "tensor([[ 0.0501, -0.0101,  0.0341, -0.0379,  0.0629, -0.0435, -0.0348, -0.0989,\n",
            "         -0.0470, -0.0881]], grad_fn=<AddmmBackward>)\n"
          ],
          "name": "stdout"
        }
      ]
    },
    {
      "cell_type": "markdown",
      "metadata": {
        "id": "FNgDG-VHXUJB",
        "colab_type": "text"
      },
      "source": [
        "Zero the gradient buffers of all parameters and backprops with random gradient"
      ]
    },
    {
      "cell_type": "code",
      "metadata": {
        "id": "0IBxbe1LW1ub",
        "colab_type": "code",
        "colab": {}
      },
      "source": [
        "net.zero_grad()\n",
        "out.backward(torch.randn(1,10))"
      ],
      "execution_count": 14,
      "outputs": []
    },
    {
      "cell_type": "markdown",
      "metadata": {
        "id": "cZeEeEMaT49k",
        "colab_type": "text"
      },
      "source": [
        "torch.nn only supports mini batches. The entire torch.nn package only supports input that are in mini batch of samples and not a single sample \\\n",
        "\n",
        "eg: \\\n",
        "nn.Conv2d will take in a 4D tensor of no_samplesX no_channels X Height X width \\\n",
        "if we have a single sample we can use input.unsqueeze(0)\n"
      ]
    },
    {
      "cell_type": "markdown",
      "metadata": {
        "id": "zTsfySUqaxDL",
        "colab_type": "text"
      },
      "source": [
        "# LOSS FUNCTION\n",
        "A loss function takes a pair of input (output, target) and computes a value that estimates how fat he output is from the target. \\\n",
        "There are several loss function in the nn package. \\\n",
        "eg: MSELoss - Mean square error between output and target"
      ]
    },
    {
      "cell_type": "code",
      "metadata": {
        "id": "EJfUQuKNS2Uf",
        "colab_type": "code",
        "colab": {
          "base_uri": "https://localhost:8080/",
          "height": 34
        },
        "outputId": "ff4b1b31-a7f2-43a0-ec68-73773a80f994"
      },
      "source": [
        "output = net(input)\n",
        "target = torch.rand(10) #a dummy target\n",
        "target = target.view(1,-1) #making it of the same shape as the output\n",
        "criterion = nn.MSELoss()\n",
        "loss = criterion(output, target)\n",
        "print(loss)"
      ],
      "execution_count": 21,
      "outputs": [
        {
          "output_type": "stream",
          "text": [
            "tensor(0.4432, grad_fn=<MseLossBackward>)\n"
          ],
          "name": "stdout"
        }
      ]
    },
    {
      "cell_type": "code",
      "metadata": {
        "id": "JL_cQ4LhbttH",
        "colab_type": "code",
        "colab": {
          "base_uri": "https://localhost:8080/",
          "height": 67
        },
        "outputId": "63f6104a-bceb-4a85-f7e6-2729d2286686"
      },
      "source": [
        "print(loss.grad_fn)         #mse loss\n",
        "print(loss.grad_fn.next_functions[0][0])    #linear\n",
        "print(loss.grad_fn.next_functions[0][0].next_functions[0][0])   #relu"
      ],
      "execution_count": 23,
      "outputs": [
        {
          "output_type": "stream",
          "text": [
            "<MseLossBackward object at 0x7fbc4507ad30>\n",
            "<AddmmBackward object at 0x7fbc4507a1d0>\n",
            "<AccumulateGrad object at 0x7fbc4507ad30>\n"
          ],
          "name": "stdout"
        }
      ]
    },
    {
      "cell_type": "markdown",
      "metadata": {
        "id": "_1tnjsMBdd9e",
        "colab_type": "text"
      },
      "source": [
        "# BACKPROP\n",
        "To back propogate the error we have to use loss.backward(). \\\n",
        "We will have to clear the existing gradients though, otherwise gradients will be accumulated to existing gradients."
      ]
    },
    {
      "cell_type": "code",
      "metadata": {
        "id": "6omb8-lNcmgS",
        "colab_type": "code",
        "colab": {
          "base_uri": "https://localhost:8080/",
          "height": 84
        },
        "outputId": "e43da888-b25b-44ae-9c5e-1770d923dae5"
      },
      "source": [
        "net.zero_grad()   #zeros the gradient buffer of all parameter\n",
        "print('conv1.bias.grad before backward')\n",
        "print(net.conv1.bias.grad)\n",
        "\n",
        "loss.backward()\n",
        "\n",
        "print('conv1.bias.grad after backward')\n",
        "print(net.conv1.bias.grad)"
      ],
      "execution_count": 25,
      "outputs": [
        {
          "output_type": "stream",
          "text": [
            "conv1.bias.grad before backward\n",
            "tensor([0., 0., 0., 0., 0., 0.])\n",
            "conv1.bias.grad after backward\n",
            "tensor([ 0.0028,  0.0000, -0.0048,  0.0018,  0.0012,  0.0075])\n"
          ],
          "name": "stdout"
        }
      ]
    },
    {
      "cell_type": "markdown",
      "metadata": {
        "id": "mO3FA9aSe6_w",
        "colab_type": "text"
      },
      "source": [
        "# UPDATING THE WEIGHT\n",
        "\n",
        "weight = weight - learning_rate*gradient"
      ]
    },
    {
      "cell_type": "code",
      "metadata": {
        "id": "z_o_ehyXeumo",
        "colab_type": "code",
        "colab": {}
      },
      "source": [
        "learning_rate =   0.01\n",
        "for f in net.parameters():\n",
        "  f.data.sub_(f.grad.data*learning_rate)"
      ],
      "execution_count": 26,
      "outputs": []
    },
    {
      "cell_type": "markdown",
      "metadata": {
        "id": "oaRJ_CWhfcVh",
        "colab_type": "text"
      },
      "source": [
        "in built optimizers"
      ]
    },
    {
      "cell_type": "code",
      "metadata": {
        "id": "ry-BVqcnfYJx",
        "colab_type": "code",
        "colab": {}
      },
      "source": [
        "import torch.optim as optim\n",
        "\n",
        "#create optimizer\n",
        "optimizer  = optim.SGD(net.parameters(), lr=0.01)\n",
        "\n",
        "#inside the training loop\n",
        "optimizer.zero_grad()   #zero gradient to buffer\n",
        "output = net(input)\n",
        "loss = criterion(output,target)\n",
        "loss.backward()\n",
        "optimizer.step()      #for update"
      ],
      "execution_count": 27,
      "outputs": []
    },
    {
      "cell_type": "code",
      "metadata": {
        "id": "h4fxw9F9gM6j",
        "colab_type": "code",
        "colab": {}
      },
      "source": [
        ""
      ],
      "execution_count": null,
      "outputs": []
    }
  ]
}