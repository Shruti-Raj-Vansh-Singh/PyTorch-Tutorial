{
  "nbformat": 4,
  "nbformat_minor": 0,
  "metadata": {
    "colab": {
      "name": "PyTorch tutorial.ipynb",
      "provenance": [],
      "authorship_tag": "ABX9TyMQ4sqMcyN3O2wwrK0I81U1",
      "include_colab_link": true
    },
    "kernelspec": {
      "name": "python3",
      "display_name": "Python 3"
    }
  },
  "cells": [
    {
      "cell_type": "markdown",
      "metadata": {
        "id": "view-in-github",
        "colab_type": "text"
      },
      "source": [
        "<a href=\"https://colab.research.google.com/github/Shruti-Raj-Vansh-Singh/PyTorch-Tutorial/blob/master/PyTorch_tutorial.ipynb\" target=\"_parent\"><img src=\"https://colab.research.google.com/assets/colab-badge.svg\" alt=\"Open In Colab\"/></a>"
      ]
    },
    {
      "cell_type": "code",
      "metadata": {
        "id": "YDbclwoxjcKW",
        "colab_type": "code",
        "colab": {}
      },
      "source": [
        "from __future__ import print_function\n",
        "import torch"
      ],
      "execution_count": 1,
      "outputs": []
    },
    {
      "cell_type": "markdown",
      "metadata": {
        "id": "TahJq1xQj5Ow",
        "colab_type": "text"
      },
      "source": [
        "Matrix with unitialized values. \\\n",
        "since we didinot initialize any values, we will get garbage value"
      ]
    },
    {
      "cell_type": "code",
      "metadata": {
        "id": "qNVI2NDIjuip",
        "colab_type": "code",
        "colab": {
          "base_uri": "https://localhost:8080/",
          "height": 101
        },
        "outputId": "05d6127c-2ff5-4934-ca5c-02da9ba612fe"
      },
      "source": [
        "#empty matrix which shows values stored at the memory location\n",
        "matrix = torch.empty(5,3)\n",
        "print(matrix)"
      ],
      "execution_count": 3,
      "outputs": [
        {
          "output_type": "stream",
          "text": [
            "tensor([[8.0635e-36, 0.0000e+00, 1.6956e-43],\n",
            "        [5.6052e-44, 1.4714e-43, 1.6255e-43],\n",
            "        [1.4153e-43, 1.5975e-43, 1.3593e-43],\n",
            "        [1.3733e-43, 1.5134e-43, 1.4153e-43],\n",
            "        [5.7453e-44, 2.2856e+20, 5.0948e-14]])\n"
          ],
          "name": "stdout"
        }
      ]
    },
    {
      "cell_type": "code",
      "metadata": {
        "id": "0VWxujzskGkn",
        "colab_type": "code",
        "colab": {
          "base_uri": "https://localhost:8080/",
          "height": 101
        },
        "outputId": "abaf8525-ccf9-4cfb-e9ef-2f477a5471c2"
      },
      "source": [
        "#randomly initialize the matrix\n",
        "x = torch.rand(5,3)\n",
        "print(x)"
      ],
      "execution_count": 5,
      "outputs": [
        {
          "output_type": "stream",
          "text": [
            "tensor([[0.3980, 0.2450, 0.6724],\n",
            "        [0.3450, 0.9107, 0.4150],\n",
            "        [0.1789, 0.9120, 0.6980],\n",
            "        [0.2695, 0.2280, 0.8511],\n",
            "        [0.7981, 0.7413, 0.5560]])\n"
          ],
          "name": "stdout"
        }
      ]
    },
    {
      "cell_type": "code",
      "metadata": {
        "id": "0kMsZhP4kdf1",
        "colab_type": "code",
        "colab": {
          "base_uri": "https://localhost:8080/",
          "height": 101
        },
        "outputId": "26a53af8-58b6-4da6-f46e-1663158ca1d1"
      },
      "source": [
        "#a matrix of zeros and of datatype long\n",
        "x = torch.zeros(5,3,dtype = torch.long)\n",
        "print(x)"
      ],
      "execution_count": 6,
      "outputs": [
        {
          "output_type": "stream",
          "text": [
            "tensor([[0, 0, 0],\n",
            "        [0, 0, 0],\n",
            "        [0, 0, 0],\n",
            "        [0, 0, 0],\n",
            "        [0, 0, 0]])\n"
          ],
          "name": "stdout"
        }
      ]
    },
    {
      "cell_type": "code",
      "metadata": {
        "id": "piiyZCPCksYB",
        "colab_type": "code",
        "colab": {
          "base_uri": "https://localhost:8080/",
          "height": 34
        },
        "outputId": "65deab52-3257-4be9-d211-09d4fc311c73"
      },
      "source": [
        "#constructing qa tensor drectly from data ie, initializing an array\n",
        "x = torch.tensor([3.6,9])\n",
        "print(x)"
      ],
      "execution_count": 11,
      "outputs": [
        {
          "output_type": "stream",
          "text": [
            "tensor([3.6000, 9.0000])\n"
          ],
          "name": "stdout"
        }
      ]
    },
    {
      "cell_type": "markdown",
      "metadata": {
        "id": "y7jZ9CNUlUUa",
        "colab_type": "text"
      },
      "source": [
        "Building new tensors using existing tensors"
      ]
    },
    {
      "cell_type": "code",
      "metadata": {
        "id": "fjDdQ4CYk8ib",
        "colab_type": "code",
        "colab": {
          "base_uri": "https://localhost:8080/",
          "height": 101
        },
        "outputId": "e1eaec61-9e56-4437-dd8f-237fdc0f4c5c"
      },
      "source": [
        "# new_* methods takes as input the size\n",
        "x = x.new_ones(5,3,dtype=torch.double)\n",
        "print(x)"
      ],
      "execution_count": 12,
      "outputs": [
        {
          "output_type": "stream",
          "text": [
            "tensor([[1., 1., 1.],\n",
            "        [1., 1., 1.],\n",
            "        [1., 1., 1.],\n",
            "        [1., 1., 1.],\n",
            "        [1., 1., 1.]], dtype=torch.float64)\n"
          ],
          "name": "stdout"
        }
      ]
    },
    {
      "cell_type": "code",
      "metadata": {
        "id": "E34vtYMOlnbZ",
        "colab_type": "code",
        "colab": {
          "base_uri": "https://localhost:8080/",
          "height": 101
        },
        "outputId": "497ca283-bc18-4cab-aff5-40c4a66f3dfd"
      },
      "source": [
        "#override datatype\n",
        "x = torch.rand_like(x, dtype=torch.float)\n",
        "print(x)"
      ],
      "execution_count": 15,
      "outputs": [
        {
          "output_type": "stream",
          "text": [
            "tensor([[0.3857, 0.6710, 0.3176],\n",
            "        [0.9357, 0.5033, 0.8439],\n",
            "        [0.7243, 0.5704, 0.5183],\n",
            "        [0.5346, 0.5955, 0.2558],\n",
            "        [0.8766, 0.3197, 0.5410]])\n"
          ],
          "name": "stdout"
        }
      ]
    },
    {
      "cell_type": "markdown",
      "metadata": {
        "id": "1VcrHtfEmH5d",
        "colab_type": "text"
      },
      "source": [
        "Function to get the size of tensor"
      ]
    },
    {
      "cell_type": "code",
      "metadata": {
        "id": "axHt-Qjrl_6W",
        "colab_type": "code",
        "colab": {
          "base_uri": "https://localhost:8080/",
          "height": 34
        },
        "outputId": "61206605-6b91-4ca1-bb59-d2e601db016a"
      },
      "source": [
        "print(x.size())"
      ],
      "execution_count": 16,
      "outputs": [
        {
          "output_type": "stream",
          "text": [
            "torch.Size([5, 3])\n"
          ],
          "name": "stdout"
        }
      ]
    },
    {
      "cell_type": "markdown",
      "metadata": {
        "id": "tz2RXjmemSj3",
        "colab_type": "text"
      },
      "source": [
        "## OPERATIONS"
      ]
    },
    {
      "cell_type": "markdown",
      "metadata": {
        "id": "NSEFe3VdmdYq",
        "colab_type": "text"
      },
      "source": [
        "Addition of 2 matrices"
      ]
    },
    {
      "cell_type": "code",
      "metadata": {
        "id": "FB-xPQ7mmM9G",
        "colab_type": "code",
        "colab": {
          "base_uri": "https://localhost:8080/",
          "height": 185
        },
        "outputId": "7d92185a-c24f-48dc-f0e4-7b498f60b27d"
      },
      "source": [
        "y = torch.rand(5,3)\n",
        "#sytnax 1\n",
        "print(x+y)\n",
        "\n",
        "#syntax 2\n",
        "print(torch.add(x,y))"
      ],
      "execution_count": 18,
      "outputs": [
        {
          "output_type": "stream",
          "text": [
            "tensor([[0.6781, 0.8435, 1.1490],\n",
            "        [1.8821, 1.4147, 1.6446],\n",
            "        [1.3075, 1.4784, 1.2214],\n",
            "        [1.1190, 1.4616, 0.3947],\n",
            "        [1.4692, 0.5730, 0.6178]])\n",
            "tensor([[0.6781, 0.8435, 1.1490],\n",
            "        [1.8821, 1.4147, 1.6446],\n",
            "        [1.3075, 1.4784, 1.2214],\n",
            "        [1.1190, 1.4616, 0.3947],\n",
            "        [1.4692, 0.5730, 0.6178]])\n"
          ],
          "name": "stdout"
        }
      ]
    },
    {
      "cell_type": "code",
      "metadata": {
        "id": "-vf-g47hmlbI",
        "colab_type": "code",
        "colab": {
          "base_uri": "https://localhost:8080/",
          "height": 101
        },
        "outputId": "835ce5e5-7daf-44f4-d7d0-1494e54c6a2b"
      },
      "source": [
        "#provide an output tensor\n",
        "result = torch.empty(5,3)\n",
        "torch.add(x,y,out=result)\n",
        "print(result)"
      ],
      "execution_count": 19,
      "outputs": [
        {
          "output_type": "stream",
          "text": [
            "tensor([[0.6781, 0.8435, 1.1490],\n",
            "        [1.8821, 1.4147, 1.6446],\n",
            "        [1.3075, 1.4784, 1.2214],\n",
            "        [1.1190, 1.4616, 0.3947],\n",
            "        [1.4692, 0.5730, 0.6178]])\n"
          ],
          "name": "stdout"
        }
      ]
    },
    {
      "cell_type": "code",
      "metadata": {
        "id": "wrlAbEIzm9gU",
        "colab_type": "code",
        "colab": {
          "base_uri": "https://localhost:8080/",
          "height": 101
        },
        "outputId": "5ef83ee5-e439-4197-f83a-46243ade17f0"
      },
      "source": [
        "#addition in place ie, add x to y\n",
        "y.add(x)\n",
        "print(y)"
      ],
      "execution_count": 20,
      "outputs": [
        {
          "output_type": "stream",
          "text": [
            "tensor([[0.2924, 0.1725, 0.8314],\n",
            "        [0.9464, 0.9114, 0.8008],\n",
            "        [0.5833, 0.9080, 0.7031],\n",
            "        [0.5844, 0.8661, 0.1389],\n",
            "        [0.5926, 0.2533, 0.0767]])\n"
          ],
          "name": "stdout"
        }
      ]
    },
    {
      "cell_type": "markdown",
      "metadata": {
        "id": "4ikVZrJvnR5k",
        "colab_type": "text"
      },
      "source": [
        "Printing similar like in numpy"
      ]
    },
    {
      "cell_type": "code",
      "metadata": {
        "id": "YtQg5odWnKc0",
        "colab_type": "code",
        "colab": {
          "base_uri": "https://localhost:8080/",
          "height": 34
        },
        "outputId": "a5fe2d58-30a5-45ab-9d26-7682d6716595"
      },
      "source": [
        "print(x[:,1])"
      ],
      "execution_count": 21,
      "outputs": [
        {
          "output_type": "stream",
          "text": [
            "tensor([0.6710, 0.5033, 0.5704, 0.5955, 0.3197])\n"
          ],
          "name": "stdout"
        }
      ]
    },
    {
      "cell_type": "markdown",
      "metadata": {
        "id": "-bwuEs5vnaHU",
        "colab_type": "text"
      },
      "source": [
        "Resize the tensor"
      ]
    },
    {
      "cell_type": "code",
      "metadata": {
        "id": "DWuCBt1dnWOu",
        "colab_type": "code",
        "colab": {
          "base_uri": "https://localhost:8080/",
          "height": 34
        },
        "outputId": "a4ab4338-aba7-44a6-ad3b-dd80f3134e1d"
      },
      "source": [
        "#resize/reshape tensor\n",
        "x = torch.rand(4,4)\n",
        "y = x.view(16)\n",
        "z = x.view(-1,8)  #the size -1 is inferred from other dimensions\n",
        "print(x.size(), y.size(), z.size())"
      ],
      "execution_count": 22,
      "outputs": [
        {
          "output_type": "stream",
          "text": [
            "torch.Size([4, 4]) torch.Size([16]) torch.Size([2, 8])\n"
          ],
          "name": "stdout"
        }
      ]
    },
    {
      "cell_type": "markdown",
      "metadata": {
        "id": "X4jXzr-Un_B4",
        "colab_type": "text"
      },
      "source": [
        "Single element tensor \\\n",
        "to print the value of that single element as a python number we use x.item()"
      ]
    },
    {
      "cell_type": "code",
      "metadata": {
        "id": "0pg8mCspn5Yk",
        "colab_type": "code",
        "colab": {
          "base_uri": "https://localhost:8080/",
          "height": 50
        },
        "outputId": "06dfa0f2-e5f7-4d28-d72e-727394e59a30"
      },
      "source": [
        "x = torch.rand(1)\n",
        "print(x)\n",
        "print(x.item())"
      ],
      "execution_count": 24,
      "outputs": [
        {
          "output_type": "stream",
          "text": [
            "tensor([0.9543])\n",
            "0.9542859196662903\n"
          ],
          "name": "stdout"
        }
      ]
    },
    {
      "cell_type": "markdown",
      "metadata": {
        "id": "gZCQZbwUoYLP",
        "colab_type": "text"
      },
      "source": [
        "## Numpy Bridge\n",
        "converting pytorch tensor to numpy array and vice versa"
      ]
    },
    {
      "cell_type": "markdown",
      "metadata": {
        "id": "lTipVNy8o8RG",
        "colab_type": "text"
      },
      "source": [
        "Convertinf tensor to array\n",
        "\n"
      ]
    },
    {
      "cell_type": "code",
      "metadata": {
        "id": "mmlbWj1qoXwP",
        "colab_type": "code",
        "colab": {
          "base_uri": "https://localhost:8080/",
          "height": 34
        },
        "outputId": "a44b8fc4-4b7f-4cc0-ee76-ae88f6e80169"
      },
      "source": [
        "a = torch.ones(5)\n",
        "print(a)"
      ],
      "execution_count": 25,
      "outputs": [
        {
          "output_type": "stream",
          "text": [
            "tensor([1., 1., 1., 1., 1.])\n"
          ],
          "name": "stdout"
        }
      ]
    },
    {
      "cell_type": "code",
      "metadata": {
        "id": "xwG6kU6doLvG",
        "colab_type": "code",
        "colab": {
          "base_uri": "https://localhost:8080/",
          "height": 34
        },
        "outputId": "8779567c-c13e-4dd4-b09a-0a889ad58178"
      },
      "source": [
        "b = a.numpy()\n",
        "print(b)"
      ],
      "execution_count": 26,
      "outputs": [
        {
          "output_type": "stream",
          "text": [
            "[1. 1. 1. 1. 1.]\n"
          ],
          "name": "stdout"
        }
      ]
    },
    {
      "cell_type": "markdown",
      "metadata": {
        "id": "ormvdwhzoyCT",
        "colab_type": "text"
      },
      "source": [
        "this is possible as the memory location of both the tensor and numpy array is same on CPU"
      ]
    },
    {
      "cell_type": "code",
      "metadata": {
        "id": "ClidTcqgotF1",
        "colab_type": "code",
        "colab": {
          "base_uri": "https://localhost:8080/",
          "height": 50
        },
        "outputId": "4e0e2972-7c13-40ed-bb0d-7d39d9d91f30"
      },
      "source": [
        "a.add_(1)\n",
        "print(a)\n",
        "print(b)"
      ],
      "execution_count": 27,
      "outputs": [
        {
          "output_type": "stream",
          "text": [
            "tensor([2., 2., 2., 2., 2.])\n",
            "[2. 2. 2. 2. 2.]\n"
          ],
          "name": "stdout"
        }
      ]
    },
    {
      "cell_type": "markdown",
      "metadata": {
        "id": "ITjRBLHFpAtz",
        "colab_type": "text"
      },
      "source": [
        "converting array to numpy \\\n",
        "all tensor on CPU expect char is supported"
      ]
    },
    {
      "cell_type": "code",
      "metadata": {
        "id": "pmlQoWIjo5vl",
        "colab_type": "code",
        "colab": {
          "base_uri": "https://localhost:8080/",
          "height": 84
        },
        "outputId": "3506101a-ab83-4fcb-f4ca-c75ccb6c5bff"
      },
      "source": [
        "import numpy as np\n",
        "a = np.ones(5)\n",
        "b = torch.from_numpy(a)\n",
        "print(a)\n",
        "print(b)\n",
        "np.add(a,1,out=a)\n",
        "print(a)\n",
        "print(b)"
      ],
      "execution_count": 28,
      "outputs": [
        {
          "output_type": "stream",
          "text": [
            "[1. 1. 1. 1. 1.]\n",
            "tensor([1., 1., 1., 1., 1.], dtype=torch.float64)\n",
            "[2. 2. 2. 2. 2.]\n",
            "tensor([2., 2., 2., 2., 2.], dtype=torch.float64)\n"
          ],
          "name": "stdout"
        }
      ]
    },
    {
      "cell_type": "markdown",
      "metadata": {
        "id": "PV1hPe8GprX9",
        "colab_type": "text"
      },
      "source": [
        "## CUDA tensors\n",
        "tensors can be moved to any device using .to method \\\n",
        "this will work only if we have cuda on the device"
      ]
    },
    {
      "cell_type": "code",
      "metadata": {
        "id": "pverD-54pY0t",
        "colab_type": "code",
        "colab": {}
      },
      "source": [
        "if torch.cuda.is_available():\n",
        "  device = torch.device(\"cuda\")                      #a cuda device object   \n",
        "  y = torch.ones_like(x, device=device)              # directly using the tensor on GPU\n",
        "  x = x.to(device)                                   # using method to(device_name)\n",
        "  z = x+y\n",
        "  print(z)\n",
        "  print(z.to(\"cpu\", torch.double))"
      ],
      "execution_count": 30,
      "outputs": []
    },
    {
      "cell_type": "code",
      "metadata": {
        "id": "JgHPdFwrqf0F",
        "colab_type": "code",
        "colab": {}
      },
      "source": [
        ""
      ],
      "execution_count": null,
      "outputs": []
    }
  ]
}